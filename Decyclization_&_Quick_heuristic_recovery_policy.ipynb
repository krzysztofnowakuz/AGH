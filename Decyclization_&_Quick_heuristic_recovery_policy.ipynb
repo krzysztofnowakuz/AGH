{
  "nbformat": 4,
  "nbformat_minor": 0,
  "metadata": {
    "colab": {
      "provenance": [],
      "authorship_tag": "ABX9TyNT8EqHc1feYoA24Q0SoxRg",
      "include_colab_link": true
    },
    "kernelspec": {
      "name": "python3",
      "display_name": "Python 3"
    },
    "language_info": {
      "name": "python"
    }
  },
  "cells": [
    {
      "cell_type": "markdown",
      "metadata": {
        "id": "view-in-github",
        "colab_type": "text"
      },
      "source": [
        "<a href=\"https://colab.research.google.com/github/krzysztofnowakuz/AGH/blob/main/Decyclization_%26_Quick_heuristic_recovery_policy.ipynb\" target=\"_parent\"><img src=\"https://colab.research.google.com/assets/colab-badge.svg\" alt=\"Open In Colab\"/></a>"
      ]
    },
    {
      "cell_type": "code",
      "source": [
        "import pandas as pd\n",
        "#Wczytywanie pliku mainForm.txt to plik, w którym zawarto macierz incydencji uzupełnionej o znakowanie początkowe\n",
        "data=pd.read_csv(\"mainForm.txt\", sep=\" \", header=None)\n",
        "#Dodanie znakowania do macierzy incydencji(zabieg typowo kosmetyczny, aby ułatwić czytelność)\n",
        "tabCol=[]\n",
        "tabRow=[]\n",
        "\n",
        "for col in data.columns:\n",
        "    tabCol.append( \"P\" + str(col+1))\n",
        "data.columns = tabCol\n",
        "\n",
        "for row in data.index-2:\n",
        "    tabRow.append(\"T\" + str(row+1))\n",
        "data.index=tabRow\n",
        "\n",
        "#Zamiana wartości \"x\" na -1.\n",
        "incidenceMatrix = data.replace('x', -1)\n",
        "\n",
        "#Wydobycie znakowania początkowego z danych.\n",
        "initialMarking = incidenceMatrix.head(2)\n",
        "initialMarking = initialMarking.to_numpy()\n",
        "\n",
        "#Konwersja danych do int oraz usunięcie znakowania początkowego z danych, aby pozostawić czystą macierz incydencji.\n",
        "incidenceMatrix = incidenceMatrix[2:]\n",
        "incidenceMatrix = incidenceMatrix.astype(int)\n",
        "\n",
        "numEdges, numVertices = incidenceMatrix.shape"
      ],
      "metadata": {
        "id": "fgmHwQZJMrzb"
      },
      "execution_count": 1,
      "outputs": []
    },
    {
      "cell_type": "markdown",
      "source": [
        "#Incidence matrix"
      ],
      "metadata": {
        "id": "CmKNK5bLstQY"
      }
    },
    {
      "cell_type": "code",
      "source": [
        "print(incidenceMatrix)"
      ],
      "metadata": {
        "colab": {
          "base_uri": "https://localhost:8080/"
        },
        "id": "Ce9Hgyfls1R3",
        "outputId": "fb596207-b8aa-4f69-901a-f3c606f55d7d"
      },
      "execution_count": 2,
      "outputs": [
        {
          "output_type": "stream",
          "name": "stdout",
          "text": [
            "    P1  P2  P3  P4  P5  P6  P7  P8  P9  P10  P11\n",
            "T1  -1   1   0   0   0   0   0   0  -1    0    0\n",
            "T2   0  -1   1   0   0   0   0   0   1   -1    0\n",
            "T3   0   0  -1   1   0   0   0   0   0    1   -1\n",
            "T4   1   0   0  -1   0   0   0   0   0    0    1\n",
            "T5   0   0   0   0   1   0   0  -1   0    0   -1\n",
            "T6   0   0   0   0  -1   1   0   0   0   -1    1\n",
            "T7   0   0   0   0   0  -1   1   0  -1    1    0\n",
            "T8   0   0   0   0   0   0  -1   1   1    0    0\n"
          ]
        }
      ]
    },
    {
      "cell_type": "markdown",
      "source": [
        "#Initial marking"
      ],
      "metadata": {
        "id": "xSsPsa8sr881"
      }
    },
    {
      "cell_type": "code",
      "source": [
        "print(initialMarking)"
      ],
      "metadata": {
        "colab": {
          "base_uri": "https://localhost:8080/"
        },
        "id": "rHCK9YIr21s1",
        "outputId": "5a70c52e-082e-423a-9b5c-20fa4e4962b8"
      },
      "execution_count": 3,
      "outputs": [
        {
          "output_type": "stream",
          "name": "stdout",
          "text": [
            "[['i' 'a' 'a' 'a' 'a' 'a' 'a' 'i' 'r' 'r' 'r']\n",
            " ['3' '0' '0' '0' '0' '0' '0' '3' '1' '1' '1']]\n"
          ]
        }
      ]
    },
    {
      "cell_type": "code",
      "source": [
        "#Obliczenie wszystkich wierzchołków oraz wydobycie z macierzy incydencji listy krawędzi grafu skierowanego.\n",
        "#Wierzchołki = ilość wierzchołków wydobywana z ilości kolumn w macierzy incydencji.\n",
        "vertices = numVertices\n",
        "\n",
        "#Wygenerowanie listy wierzchołków od 1 do vertices.\n",
        "vertices = list(range(1, vertices + 1))\n",
        "\n",
        "#Pusta lista na krawędzie grafu.\n",
        "edges = []\n",
        "\n",
        "#Iterujemy po wszystkich wierszach, aby wyszukać wszystkie tails i heads, a następnie stworzyć z nich parę reprezentującą krawędź i dodajemy ją do listy edges.\n",
        "for row in incidenceMatrix.values:\n",
        "    tails = [i+1 for i, x in enumerate(row) if x == -1]\n",
        "    heads = [i+1 for i, x in enumerate(row) if x == 1]\n",
        "    edges.extend([(tail, head) for tail in tails for head in heads])\n",
        "\n",
        "print(\"Vertices =\", vertices)\n",
        "print(\"Edges =\", edges)"
      ],
      "metadata": {
        "colab": {
          "base_uri": "https://localhost:8080/"
        },
        "id": "mge1eCYG0VW2",
        "outputId": "6085df52-6261-410b-ebfc-a4e673480490"
      },
      "execution_count": 4,
      "outputs": [
        {
          "output_type": "stream",
          "name": "stdout",
          "text": [
            "Vertices = [1, 2, 3, 4, 5, 6, 7, 8, 9, 10, 11]\n",
            "Edges = [(1, 2), (9, 2), (2, 3), (2, 9), (10, 3), (10, 9), (3, 4), (3, 10), (11, 4), (11, 10), (4, 1), (4, 11), (8, 5), (11, 5), (5, 6), (5, 11), (10, 6), (10, 11), (6, 7), (6, 10), (9, 7), (9, 10), (7, 8), (7, 9)]\n"
          ]
        }
      ]
    },
    {
      "cell_type": "code",
      "source": [
        "#Tworzymy dwie listy na head i tail, gdzie head = początek krawędzi, a tail koniec krawędzi.\n",
        "head = [e[0] for e in edges]\n",
        "tail = [e[1] for e in edges]\n",
        "\n",
        "for e in edges:\n",
        "    head[e[0]] += 1\n",
        "    tail[e[1]] += 1\n",
        "\n",
        "#Obliczanie wagi dla każdej krawędzi bazując na ilości wystąpień głów i ogonów.\n",
        "#Wzór: liczba wystąpień ogona krawędzi e jako ogona - liczba wystąpień ogona e jako głowy + liczba wystąpień głowy krawędzi e jako głowy - liczba wystąpień głowy krawędzi e jako ogona.\n",
        "w = {}\n",
        "for e in edges:\n",
        "    w[e] = tail[e[1]] - head[e[1]] + head[e[0]] - tail[e[0]]"
      ],
      "metadata": {
        "id": "Mtg5ujpUrhPq"
      },
      "execution_count": 5,
      "outputs": []
    },
    {
      "cell_type": "code",
      "source": [
        "#Sortowanie w sposób nie malejący wszystkich wierzchołków na podstawie wyliczonych wcześniej wag.\n",
        "sorted_edges = sorted(w.items(), key=lambda x: x[1])\n",
        "for edge, weight in sorted_edges:\n",
        "    print(f'Edge: {edge}, Weight: {weight}')"
      ],
      "metadata": {
        "colab": {
          "base_uri": "https://localhost:8080/"
        },
        "id": "y5ySH3zFCMv1",
        "outputId": "e121b502-658b-4621-e7d5-b1e92b5e5ce8"
      },
      "execution_count": 6,
      "outputs": [
        {
          "output_type": "stream",
          "name": "stdout",
          "text": [
            "Edge: (3, 4), Weight: -14\n",
            "Edge: (11, 4), Weight: -14\n",
            "Edge: (7, 8), Weight: -14\n",
            "Edge: (3, 10), Weight: -10\n",
            "Edge: (11, 10), Weight: -10\n",
            "Edge: (11, 5), Weight: -8\n",
            "Edge: (7, 9), Weight: -8\n",
            "Edge: (6, 10), Weight: -4\n",
            "Edge: (2, 9), Weight: -2\n",
            "Edge: (9, 10), Weight: -2\n",
            "Edge: (4, 1), Weight: 0\n",
            "Edge: (9, 2), Weight: 2\n",
            "Edge: (10, 9), Weight: 2\n",
            "Edge: (5, 6), Weight: 2\n",
            "Edge: (10, 6), Weight: 4\n",
            "Edge: (2, 3), Weight: 6\n",
            "Edge: (8, 5), Weight: 6\n",
            "Edge: (6, 7), Weight: 6\n",
            "Edge: (1, 2), Weight: 8\n",
            "Edge: (5, 11), Weight: 8\n",
            "Edge: (9, 7), Weight: 8\n",
            "Edge: (10, 3), Weight: 10\n",
            "Edge: (10, 11), Weight: 10\n",
            "Edge: (4, 11), Weight: 14\n"
          ]
        }
      ]
    },
    {
      "cell_type": "code",
      "source": [
        "\n",
        "#Poniższa funkcja wykorzystując BFS sprawdza czy istnieje ścieżka od wierzchołka start do wierzchołka end w danym grafie.\n",
        "#visited - wierzchołki odwiedzone podczas przeszukiwania.\n",
        "#queue - wierzchołki do odwiedzenia\n",
        "def is_path_exists(graph, start, end):\n",
        "    visited = set()\n",
        "    queue = [start]\n",
        "\n",
        "    while queue: #Pętla wykonuje się dopóki kolejka nie jest pusta.\n",
        "        vertex = queue.pop(0) #Usunięcie i zwrócenie pierwszego elementu z kolejki\n",
        "        if vertex == end:\n",
        "            return True  #Jeśli obecny wierzchołek to wierzchołek końcowy, to zwracamy True\n",
        "        if vertex not in visited:\n",
        "            visited.add(vertex)\n",
        "            queue.extend(graph.get(vertex, []))  #Jeśli rozpatrywany wierzchołek nie został jeszcze odwiedzony dodajemy go do zbioru odwiedzonych i dodajemy wszystkich nieodwiedzonych sąsiadów do kolejki.\n",
        "    return False\n",
        "#E_prime to lista krawędzi, które są dodawane do grafu G_prime.\n",
        "G_prime = {}\n",
        "E_prime = []\n",
        "\n",
        "for edge, weight in sorted_edges:\n",
        "    head, tail = edge\n",
        "    if not is_path_exists(G_prime, head, tail):\n",
        "        E_prime.append(edge)\n",
        "        if head in G_prime:\n",
        "            G_prime[head].append(tail)\n",
        "        else:\n",
        "            G_prime[head] = [tail]\n",
        "print(\"E'\",E_prime)\n",
        "print(\"G'\",G_prime)"
      ],
      "metadata": {
        "colab": {
          "base_uri": "https://localhost:8080/"
        },
        "id": "KLNErC41r_NO",
        "outputId": "45841d4f-1a83-479e-b203-4f77fc6df5f8"
      },
      "execution_count": 7,
      "outputs": [
        {
          "output_type": "stream",
          "name": "stdout",
          "text": [
            "E' [(3, 4), (11, 4), (7, 8), (3, 10), (11, 10), (11, 5), (7, 9), (6, 10), (2, 9), (9, 10), (4, 1), (9, 2), (10, 9), (5, 6), (10, 6), (2, 3), (8, 5), (6, 7), (1, 2), (5, 11)]\n",
            "G' {3: [4, 10], 11: [4, 10, 5], 7: [8, 9], 6: [10, 7], 2: [9, 3], 9: [10, 2], 4: [1], 10: [9, 6], 5: [6, 11], 8: [5], 1: [2]}\n"
          ]
        }
      ]
    }
  ]
}