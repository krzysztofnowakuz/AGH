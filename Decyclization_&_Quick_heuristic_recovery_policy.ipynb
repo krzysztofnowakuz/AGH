{
  "nbformat": 4,
  "nbformat_minor": 0,
  "metadata": {
    "colab": {
      "provenance": [],
      "authorship_tag": "ABX9TyNkw7/j/6QDkSB2GGQeeg6E",
      "include_colab_link": true
    },
    "kernelspec": {
      "name": "python3",
      "display_name": "Python 3"
    },
    "language_info": {
      "name": "python"
    }
  },
  "cells": [
    {
      "cell_type": "markdown",
      "metadata": {
        "id": "view-in-github",
        "colab_type": "text"
      },
      "source": [
        "<a href=\"https://colab.research.google.com/github/krzysztofnowakuz/AGH/blob/main/Decyclization_%26_Quick_heuristic_recovery_policy.ipynb\" target=\"_parent\"><img src=\"https://colab.research.google.com/assets/colab-badge.svg\" alt=\"Open In Colab\"/></a>"
      ]
    },
    {
      "cell_type": "code",
      "source": [
        "import pandas as pd\n",
        "\n",
        "data=pd.read_csv(\"mainForm.txt\", sep=\" \", header=None)\n",
        "tabCol=[]\n",
        "tabRow=[]\n",
        "\n",
        "for col in data.columns:\n",
        "    tabCol.append( \"P\" + str(col+1))\n",
        "data.columns = tabCol\n",
        "\n",
        "for row in data.index-2:\n",
        "    tabRow.append(\"T\" + str(row+1))\n",
        "data.index=tabRow\n",
        "\n",
        "incidenceMatrix = data.replace('x', -1)\n",
        "\n",
        "initialMarking = incidenceMatrix.head(2)\n",
        "initialMarking = initialMarking.to_numpy()\n",
        "incidenceMatrix = incidenceMatrix[2:]\n",
        "\n",
        "incidenceMatrix = incidenceMatrix.astype(int)\n",
        "numEdges, numVertices = incidenceMatrix.shape\n",
        "\n",
        "print(\"Incidence matrix\")\n",
        "print(incidenceMatrix)"
      ],
      "metadata": {
        "id": "fgmHwQZJMrzb",
        "colab": {
          "base_uri": "https://localhost:8080/"
        },
        "outputId": "543cb30b-dae4-4fd0-fc2a-989937acecbd"
      },
      "execution_count": 25,
      "outputs": [
        {
          "output_type": "stream",
          "name": "stdout",
          "text": [
            "Incidence matrix\n",
            "    P1  P2  P3  P4  P5  P6  P7  P8  P9  P10  P11\n",
            "T1  -1   1   0   0   0   0   0   0  -1    0    0\n",
            "T2   0  -1   1   0   0   0   0   0   1   -1    0\n",
            "T3   0   0  -1   1   0   0   0   0   0    1   -1\n",
            "T4   1   0   0  -1   0   0   0   0   0    0    1\n",
            "T5   0   0   0   0   1   0   0  -1   0    0   -1\n",
            "T6   0   0   0   0  -1   1   0   0   0   -1    1\n",
            "T7   0   0   0   0   0  -1   1   0  -1    1    0\n",
            "T8   0   0   0   0   0   0  -1   1   1    0    0\n"
          ]
        }
      ]
    },
    {
      "cell_type": "markdown",
      "source": [
        "#Initial marking"
      ],
      "metadata": {
        "id": "xSsPsa8sr881"
      }
    },
    {
      "cell_type": "code",
      "source": [
        "print(initialMarking)"
      ],
      "metadata": {
        "colab": {
          "base_uri": "https://localhost:8080/"
        },
        "id": "rHCK9YIr21s1",
        "outputId": "1a301b17-5e7a-4ef2-faa5-7c66564b28a7"
      },
      "execution_count": 24,
      "outputs": [
        {
          "output_type": "stream",
          "name": "stdout",
          "text": [
            "[['i' 'a' 'a' 'a' 'a' 'a' 'a' 'i' 'r' 'r' 'r']\n",
            " ['3' '0' '0' '0' '0' '0' '0' '3' '1' '1' '1']]\n"
          ]
        }
      ]
    },
    {
      "cell_type": "code",
      "source": [
        "vertices = numVertices\n",
        "vertices = list(range(1, vertices + 1))\n",
        "\n",
        "edges = []\n",
        "\n",
        "for row in incidenceMatrix.values:\n",
        "    tails = [i+1 for i, x in enumerate(row) if x == -1]\n",
        "    heads = [i+1 for i, x in enumerate(row) if x == 1]\n",
        "    edges.extend([(tail, head) for tail in tails for head in heads])\n",
        "\n",
        "print(\"Vertices =\", vertices)\n",
        "print(\"Edges =\", edges)"
      ],
      "metadata": {
        "colab": {
          "base_uri": "https://localhost:8080/"
        },
        "id": "mge1eCYG0VW2",
        "outputId": "13870afd-b80c-4aff-f336-f18249ddcd94"
      },
      "execution_count": 26,
      "outputs": [
        {
          "output_type": "stream",
          "name": "stdout",
          "text": [
            "Vertices = [1, 2, 3, 4, 5, 6, 7, 8, 9, 10, 11]\n",
            "Edges = [(1, 2), (9, 2), (2, 3), (2, 9), (10, 3), (10, 9), (3, 4), (3, 10), (11, 4), (11, 10), (4, 1), (4, 11), (8, 5), (11, 5), (5, 6), (5, 11), (10, 6), (10, 11), (6, 7), (6, 10), (9, 7), (9, 10), (7, 8), (7, 9)]\n"
          ]
        }
      ]
    },
    {
      "cell_type": "code",
      "source": [
        "head = [e[0] for e in edges]\n",
        "tail = [e[1] for e in edges]\n",
        "\n",
        "for e in edges:\n",
        "    head[e[0]] += 1\n",
        "    tail[e[1]] += 1\n",
        "\n",
        "w = {}\n",
        "\n",
        "for e in edges:\n",
        "    w[e] = tail[e[1]] - head[e[1]] + head[e[0]] - tail[e[0]]\n",
        "\n",
        "print(w)\n",
        "print('Head', head)\n",
        "print('Tail', tail)"
      ],
      "metadata": {
        "colab": {
          "base_uri": "https://localhost:8080/"
        },
        "id": "Mtg5ujpUrhPq",
        "outputId": "3af61157-eb07-4843-a090-e4e704d65cb1"
      },
      "execution_count": 27,
      "outputs": [
        {
          "output_type": "stream",
          "name": "stdout",
          "text": [
            "{(1, 2): 8, (9, 2): 2, (2, 3): 6, (2, 9): -2, (10, 3): 10, (10, 9): 2, (3, 4): -14, (3, 10): -10, (11, 4): -14, (11, 10): -10, (4, 1): 0, (4, 11): 14, (8, 5): 6, (11, 5): -8, (5, 6): 2, (5, 11): 8, (10, 6): 4, (10, 11): 10, (6, 7): 6, (6, 10): -4, (9, 7): 8, (9, 10): -2, (7, 8): -14, (7, 9): -8}\n",
            "Head [1, 10, 4, 4, 12, 12, 5, 5, 12, 14, 8, 7, 8, 11, 5, 5, 10, 10, 6, 6, 9, 9, 7, 7]\n",
            "Tail [2, 3, 5, 11, 5, 11, 6, 12, 5, 13, 5, 14, 5, 5, 6, 11, 6, 11, 7, 10, 7, 10, 8, 9]\n"
          ]
        }
      ]
    },
    {
      "cell_type": "code",
      "source": [
        "sorted_edges = sorted(w.items(), key=lambda x: x[1])\n",
        "for edge, weight in sorted_edges:\n",
        "    print(f'Edge: {edge}, Weight: {weight}')"
      ],
      "metadata": {
        "colab": {
          "base_uri": "https://localhost:8080/"
        },
        "id": "y5ySH3zFCMv1",
        "outputId": "bb677c7e-cd94-4194-a206-40d0fab7f6d4"
      },
      "execution_count": 28,
      "outputs": [
        {
          "output_type": "stream",
          "name": "stdout",
          "text": [
            "Edge: (3, 4), Weight: -14\n",
            "Edge: (11, 4), Weight: -14\n",
            "Edge: (7, 8), Weight: -14\n",
            "Edge: (3, 10), Weight: -10\n",
            "Edge: (11, 10), Weight: -10\n",
            "Edge: (11, 5), Weight: -8\n",
            "Edge: (7, 9), Weight: -8\n",
            "Edge: (6, 10), Weight: -4\n",
            "Edge: (2, 9), Weight: -2\n",
            "Edge: (9, 10), Weight: -2\n",
            "Edge: (4, 1), Weight: 0\n",
            "Edge: (9, 2), Weight: 2\n",
            "Edge: (10, 9), Weight: 2\n",
            "Edge: (5, 6), Weight: 2\n",
            "Edge: (10, 6), Weight: 4\n",
            "Edge: (2, 3), Weight: 6\n",
            "Edge: (8, 5), Weight: 6\n",
            "Edge: (6, 7), Weight: 6\n",
            "Edge: (1, 2), Weight: 8\n",
            "Edge: (5, 11), Weight: 8\n",
            "Edge: (9, 7), Weight: 8\n",
            "Edge: (10, 3), Weight: 10\n",
            "Edge: (10, 11), Weight: 10\n",
            "Edge: (4, 11), Weight: 14\n"
          ]
        }
      ]
    },
    {
      "cell_type": "code",
      "source": [
        "def is_path_exists(graph, start, end):\n",
        "    visited = set()\n",
        "    queue = [start]\n",
        "\n",
        "    while queue:\n",
        "        vertex = queue.pop(0)\n",
        "        if vertex == end:\n",
        "            return True\n",
        "        if vertex not in visited:\n",
        "            visited.add(vertex)\n",
        "            queue.extend(graph.get(vertex, []))\n",
        "    return False\n",
        "\n",
        "G_prime = {}\n",
        "E_prime = []\n",
        "\n",
        "for edge, weight in sorted_edges:\n",
        "    head, tail = edge\n",
        "    if not is_path_exists(G_prime, head, tail):\n",
        "        E_prime.append(edge)\n",
        "        if head in G_prime:\n",
        "            G_prime[head].append(tail)\n",
        "        else:\n",
        "            G_prime[head] = [tail]\n",
        "print(\"E'\",E_prime)\n",
        "print(\"G'\",G_prime)"
      ],
      "metadata": {
        "colab": {
          "base_uri": "https://localhost:8080/"
        },
        "id": "KLNErC41r_NO",
        "outputId": "3b324c48-5307-440e-9b5e-96025d23b7cc"
      },
      "execution_count": 6,
      "outputs": [
        {
          "output_type": "stream",
          "name": "stdout",
          "text": [
            "E' [(3, 4), (11, 4), (7, 8), (3, 10), (11, 10), (11, 5), (7, 9), (6, 10), (2, 9), (9, 10), (4, 1), (9, 2), (10, 9), (5, 6), (10, 6), (2, 3), (8, 5), (6, 7), (1, 2), (5, 11)]\n",
            "G' {3: [4, 10], 11: [4, 10, 5], 7: [8, 9], 6: [10, 7], 2: [9, 3], 9: [10, 2], 4: [1], 10: [9, 6], 5: [6, 11], 8: [5], 1: [2]}\n"
          ]
        }
      ]
    }
  ]
}