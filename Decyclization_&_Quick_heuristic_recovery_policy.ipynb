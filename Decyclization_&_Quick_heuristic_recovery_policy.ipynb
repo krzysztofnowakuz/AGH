{
  "nbformat": 4,
  "nbformat_minor": 0,
  "metadata": {
    "colab": {
      "provenance": [],
      "authorship_tag": "ABX9TyPoW3Yy7Uk+AVveLu8vsjfE",
      "include_colab_link": true
    },
    "kernelspec": {
      "name": "python3",
      "display_name": "Python 3"
    },
    "language_info": {
      "name": "python"
    }
  },
  "cells": [
    {
      "cell_type": "markdown",
      "metadata": {
        "id": "view-in-github",
        "colab_type": "text"
      },
      "source": [
        "<a href=\"https://colab.research.google.com/github/krzysztofnowakuz/AGH/blob/main/Decyclization_%26_Quick_heuristic_recovery_policy.ipynb\" target=\"_parent\"><img src=\"https://colab.research.google.com/assets/colab-badge.svg\" alt=\"Open In Colab\"/></a>"
      ]
    },
    {
      "cell_type": "code",
      "source": [
        "import pandas as pd\n",
        "\n",
        "data=pd.read_csv(\"testForm3.txt\", sep=\" \", header=None)\n",
        "tabCol=[]\n",
        "tabRow=[]\n",
        "\n",
        "for col in data.columns:\n",
        "    tabCol.append( \"P\" + str(col+1))\n",
        "data.columns = tabCol\n",
        "\n",
        "for row in data.index:\n",
        "    tabRow.append(\"T\" + str(row+1))\n",
        "data.index=tabRow\n",
        "\n",
        "incidenceMatrix = data.replace('x', -1)\n",
        "incidenceMatrix = incidenceMatrix.astype(int)\n",
        "initialMarking = incidenceMatrix.tail(1)\n",
        "incidenceMatrix = incidenceMatrix[:-1]\n",
        "numEdges, numVertices = incidenceMatrix.shape\n",
        "\n",
        "#print (incidenceMatrix)\n",
        "#print (initialMarking)\n"
      ],
      "metadata": {
        "id": "fgmHwQZJMrzb"
      },
      "execution_count": 9,
      "outputs": []
    },
    {
      "cell_type": "code",
      "source": [
        "vertices = numVertices\n",
        "vertices = list(range(1, vertices + 1))\n",
        "\n",
        "edges = []\n",
        "\n",
        "for row in incidenceMatrix.values:\n",
        "    tails = [i+1 for i, x in enumerate(row) if x == -1]\n",
        "    heads = [i+1 for i, x in enumerate(row) if x == 1]\n",
        "    edges.extend([(tail, head) for tail in tails for head in heads])\n",
        "\n",
        "print(\"Vertices =\", vertices)\n",
        "print(\"Edges =\", edges)"
      ],
      "metadata": {
        "colab": {
          "base_uri": "https://localhost:8080/"
        },
        "id": "mge1eCYG0VW2",
        "outputId": "3db1582d-00b3-4b51-e505-258a1d76a8b2"
      },
      "execution_count": 10,
      "outputs": [
        {
          "output_type": "stream",
          "name": "stdout",
          "text": [
            "Vertices = [1, 2, 3, 4, 5, 6, 7]\n",
            "Edges = [(1, 2), (1, 3), (1, 4), (4, 5), (2, 6), (3, 6), (5, 6), (6, 7), (7, 1)]\n"
          ]
        }
      ]
    },
    {
      "cell_type": "code",
      "source": [
        "head = [e[0] for e in edges]\n",
        "tail = [e[1] for e in edges]\n",
        "\n",
        "for e in edges:\n",
        "    head[e[0]] += 1\n",
        "    tail[e[1]] += 1\n",
        "\n",
        "w = {}\n",
        "\n",
        "for e in edges:\n",
        "    w[e] = tail[e[1]] - head[e[1]] + head[e[0]] - tail[e[0]]\n",
        "sorted_w = dict(sorted(w.items(), key=lambda item: item[1]))\n",
        "E_prime = set()\n",
        "Q = sorted_w\n",
        "\n",
        "print(w)\n",
        "print(Q)\n",
        "print('Head', head)\n",
        "print('Tail', tail)"
      ],
      "metadata": {
        "colab": {
          "base_uri": "https://localhost:8080/"
        },
        "id": "Mtg5ujpUrhPq",
        "outputId": "f49db978-5eee-4a87-898f-4277ed667f68"
      },
      "execution_count": 11,
      "outputs": [
        {
          "output_type": "stream",
          "name": "stdout",
          "text": [
            "{(1, 2): 3, (1, 3): 1, (1, 4): 4, (4, 5): -1, (2, 6): 0, (3, 6): 2, (5, 6): 0, (6, 7): -2, (7, 1): -1}\n",
            "{(6, 7): -2, (4, 5): -1, (7, 1): -1, (2, 6): 0, (5, 6): 0, (1, 3): 1, (3, 6): 2, (1, 2): 3, (1, 4): 4}\n",
            "Head [1, 4, 2, 5, 3, 4, 6, 7, 7]\n",
            "Tail [2, 4, 5, 6, 7, 7, 9, 8, 1]\n"
          ]
        }
      ]
    },
    {
      "cell_type": "code",
      "source": [
        "graph = {}\n",
        "for tail, head in edges:\n",
        "    if tail in graph:\n",
        "        graph[tail].append(head)\n",
        "    else:\n",
        "        graph[tail] = [head]\n",
        "\n",
        "dag_edges = []\n",
        "\n",
        "def is_reachable(graph, start, end, path=[]):\n",
        "    path = path + [start]\n",
        "    if start == end:\n",
        "        return True\n",
        "    if start not in graph:\n",
        "        return False\n",
        "    for node in graph[start]:\n",
        "        if node not in path:\n",
        "            newpath = is_reachable(graph, node, end, path)\n",
        "            if newpath:\n",
        "                return True\n",
        "    return False\n",
        "\n",
        "for tail, heads in graph.items():\n",
        "    for head in heads:\n",
        "        graph[tail].remove(head)\n",
        "        if not is_reachable(graph, tail, head):\n",
        "            dag_edges.append((tail, head))\n",
        "        graph[tail].append(head)\n",
        "\n",
        "print(dag_edges)"
      ],
      "metadata": {
        "colab": {
          "base_uri": "https://localhost:8080/"
        },
        "id": "y5ySH3zFCMv1",
        "outputId": "a96865ea-ed2a-4108-e4fd-cfba5dc66425"
      },
      "execution_count": 13,
      "outputs": [
        {
          "output_type": "stream",
          "name": "stdout",
          "text": [
            "[(1, 2), (1, 4), (1, 4), (4, 5), (2, 6), (3, 6), (5, 6), (6, 7), (7, 1)]\n"
          ]
        }
      ]
    },
    {
      "cell_type": "code",
      "source": [],
      "metadata": {
        "id": "CTe6o38lF5cE"
      },
      "execution_count": 19,
      "outputs": []
    }
  ]
}